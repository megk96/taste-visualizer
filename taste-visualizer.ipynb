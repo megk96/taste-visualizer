{
 "cells": [
  {
   "attachments": {},
   "cell_type": "markdown",
   "id": "2aa9c16e",
   "metadata": {},
   "source": [
    "# Keywords in Embedding Space\n",
    "Import the 3000 entities of books, movies, TV shows and their corresponding keywords"
   ]
  },
  {
   "cell_type": "code",
   "execution_count": 5,
   "id": "80c4cc42",
   "metadata": {},
   "outputs": [],
   "source": [
    "import openai\n",
    "openai.organization = \"REDACTED\"\n",
    "openai.api_key = \"REDACTED\""
   ]
  },
  {
   "cell_type": "code",
   "execution_count": 9,
   "id": "1e3c4135",
   "metadata": {},
   "outputs": [
    {
     "name": "stderr",
     "output_type": "stream",
     "text": [
      "/var/folders/hg/vd6q39q15lq3d73cjhq05yk00000gn/T/ipykernel_45081/1736011995.py:10: DeprecationWarning: Sampling from a set deprecated\n",
      "since Python 3.9 and will be removed in a subsequent version.\n",
      "  taste = random.sample(domain.keys(), 10)\n"
     ]
    },
    {
     "data": {
      "text/plain": [
       "\"Blindspot, mystery, crime, drama, action, FBI, Jane Doe, tattoos, memory loss, conspiracy, fast-paced, suspense, thriller, Jaimie Alexander, Sullivan Stapleton, Rob Brown, Martin Gero, Greg Berlanti, Sarah Schechter, New York City, USA, heist, revelations, secrets, teamwork, puzzle solving, amnesia, mind games, crime-solving, tattoo decryption, Cormac McCarthy, No Country for Old Men, 2014, thriller, crime, suspense, neo-Western, Llewelyn Moss, Anton Chigurh, Sheriff Ed Tom Bell, Texas, Mexico, drug deal, moral decay, violence, fate, good vs evil, nihilism, bleak, contemplative, gripping, slow-burn, mature audience, readers who appreciate literary fiction, Tommy Lee Jones, Javier Bardem, Josh Brolin, Kelly Macdonald, Joel and Ethan Coen, United States, Academy Award-winning film, Best Picture, adapted screenplay, Haruki Murakami, A Wild Sheep Chase, The Rat series, surrealism, metaphysical, mystery, Japanese literature, postmodern, existentialism, magical realism, jazz, loneliness, introspection, humor, urban alienation, quest, self-discovery, supernatural forces, melancholic, mid-life crisis, nostalgia, love triangle, twisted identity, male protagonist, contemporary Japan, friendship, slow pace, philosophical, dreamlike, identity crisis, Dan Simmons, science fiction, Endymion, Hyperion Cantos, space opera, interstellar travel, far-future, Aenea, Raul Endymion, galactic empire, Catholic Church, adventure, dystopian, post-apocalyptic, satirical, suspenseful, romance, philosophical, epic, technology, artificial intelligence, Shrike, time travel, river journey, rebels, transcendence, pilgrimage, maturity, intricate world-building, creative transformation, Animated Comedy, Children's Television, 1999, Slice of Life, Misadventures, Adolescence, Suburban Neighborhood, Friendship, Money-making Schemes, Slapstick Humor, Cartoon Network, Danny Antonucci, Tony Sampson, Samuel Vincent, Matt Hill, Erin Fitzgerald, Kathleen Barr, David Paul Grove, Ed, Edd, Eddy, United States, Canada, A.K.A. Cartoon, TV-Y7, Family Viewing, 6 Seasons, 2 Primetime Emmy Award Nominations, Peabody Award, Geraldine Brooks, Year of Wonders, historical fiction, 17th century, English village, bubonic plague, Eyam, isolation, resilience, fear, friendship, faith, romance, loss, moral dilemmas, survival, witchcraft, perseverance, strong female protagonist, Anna Frith, Michael Mompellion, lyrical prose, slow-burning, emotional, atmospheric, 20-something readers, woman author, Pulitzer Prize winner, Australian author, romance, supernatural, drama, thriller, tragic, love, death, crime, afterlife, suspenseful, ghosts, Demi Moore, Patrick Swayze, Whoopi Goldberg, Jerry Zucker, Bruce Joel Rubin, United States, Academy Awards, Best Supporting Actress, Best Original Screenplay, haunting, pottery scene, heartfelt, emotional, passionate, mystery, revenge, medium, female psychic, 1990s movies, Call the Midwife, 2012, period drama, midwifery, nursing, BBC, East End London, 1950s-1960s, female empowerment, poverty, community, friendship, faith, social issues, medical drama, ensemble cast, strong female characters, Britt Allcroft, Vanessa Redgrave, Miranda Hart, Jenny Agutter, Judy Parfitt, Helen George, Jessica Raine, UK, BAFTA, National Television Awards, TV Choice Awards, predominantly female audience, warm-hearted, emotional drama, inspiring stories, Hot Fuzz, action-comedy, parody, British humor, Simon Pegg, Nick Frost, Edgar Wright, small-town, police, conspiracy, fast-paced, witty, cult classic, buddy-cop, dark comedy, murder-mystery, corruption, young adults, slapstick, quirky, United Kingdom, Shaun of the Dead, Bill Nighy, popular culture references, genre deconstruction, London Metropolitan Police, 2000s comedy, British Cinema, BAFTA nominated, Golden Trailer Awards, I, Tonya, figure skating, dark comedy, biographical, Margot Robbie, Allison Janney, Sebastian Stan, Craig Gillespie, Steven Rogers, competitive ice skating, 1990s, Tonya Harding, Nancy Kerrigan, abuse, dysfunctional family, scandal, mockumentary, ambition, rivalry, working class, USA, female athlete, edgy, sports drama, Academy Awards, Best Supporting Actress, comedic tragedy, based on true story, emotionally charged\""
      ]
     },
     "execution_count": 9,
     "metadata": {},
     "output_type": "execute_result"
    }
   ],
   "source": [
    "import json\n",
    "import random\n",
    "import backoff\n",
    "with open(\"data/uri_to_keywords.json\", \"r\") as fp:\n",
    "    URI_TO_KEYWORDS = json.load(fp)\n",
    "\n",
    "with open(\"../multientity-recommender/data/domain.json\", \"r\") as fp:\n",
    "    domain = json.load(fp)\n",
    "\n",
    "taste = random.sample(domain.keys(), 10)\n",
    "keywords = \", \".join([URI_TO_KEYWORDS[uri] for uri in taste])\n",
    "keywords"
   ]
  },
  {
   "cell_type": "code",
   "execution_count": 12,
   "id": "0c8d3c03",
   "metadata": {},
   "outputs": [],
   "source": [
    "@backoff.on_exception(backoff.expo,\n",
    "                      openai.error.RateLimitError,\n",
    "                      max_time=300)\n",
    "def get_gpt_summary_of_taste(prompt):\n",
    "    completion =  openai.ChatCompletion.create(\n",
    "    model=\"gpt-4\",\n",
    "    messages=[\n",
    "    {\"role\": \"assistant\", \"content\": f\"You are a movie, book, and tv expert. A user likes the following concepts in their taste profile: {prompt}. Can you summarize their taste as 5 different plot points? Do not output anything else, just the 5 phrases as a python list of strings\"},\n",
    "    ])\n",
    "    return completion.choices[0].message[\"content\"]\n"
   ]
  },
  {
   "cell_type": "code",
   "execution_count": 13,
   "id": "625b59cc",
   "metadata": {},
   "outputs": [
    {
     "data": {
      "text/plain": [
       "\"['mystery and crime-solving', 'drama and suspense', 'fast-paced action and thrillers', 'character-driven narratives', 'intricate world-building and philosophical themes']\""
      ]
     },
     "execution_count": 13,
     "metadata": {},
     "output_type": "execute_result"
    }
   ],
   "source": [
    "get_gpt_summary_of_taste(keywords)"
   ]
  },
  {
   "cell_type": "code",
   "execution_count": null,
   "id": "ed49f168",
   "metadata": {},
   "outputs": [],
   "source": []
  }
 ],
 "metadata": {
  "kernelspec": {
   "display_name": "w2v",
   "language": "python",
   "name": "python3"
  },
  "language_info": {
   "codemirror_mode": {
    "name": "ipython",
    "version": 3
   },
   "file_extension": ".py",
   "mimetype": "text/x-python",
   "name": "python",
   "nbconvert_exporter": "python",
   "pygments_lexer": "ipython3",
   "version": "3.10.6"
  }
 },
 "nbformat": 4,
 "nbformat_minor": 5
}
